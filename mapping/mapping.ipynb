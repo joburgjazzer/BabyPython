{
 "cells": [
  {
   "cell_type": "markdown",
   "metadata": {},
   "source": [
    "How I Understood: Getting accurate current geolocation using Python Web-scraping and Selenium\n",
    "    https://blog.dominodatalab.com/creating-interactive-crime-maps-with-folium/\n",
    "    \n",
    "    https://github.com/joeljogy/Display-interactive-leaflet-maps\n",
    "    \n",
    "    https://codeburst.io/how-i-understood-getting-accurate-geolocation-using-python-web-scraping-and-selenium-7967d721587a"
   ]
  },
  {
   "cell_type": "markdown",
   "metadata": {},
   "source": [
    "How I Understood: Building Interactive Maps using Python, Leaflet.js and Folium\n",
    "https://codeburst.io/how-i-understood-displaying-interactive-maps-using-python-leaflet-js-and-folium-bd9b98c26e0e"
   ]
  },
  {
   "cell_type": "code",
   "execution_count": 3,
   "metadata": {},
   "outputs": [],
   "source": [
    "import pandas as pd\n",
    "import datetime\n",
    "import folium\n",
    "from folium.map import *\n",
    "from folium import plugins\n",
    "from folium.plugins import MeasureControl\n",
    "from folium.plugins import FloatImage"
   ]
  },
  {
   "cell_type": "code",
   "execution_count": 4,
   "metadata": {},
   "outputs": [],
   "source": [
    "import pandas as pd\n",
    "url = 'https://raw.githubusercontent.com/joeljogy/Display-interactive-leaflet-maps/master/datasets/demo.csv'\n",
    "demo = pd.read_csv(url,index_col=0,parse_dates=[0])\n",
    "# df = pd.read_csv(url)\n",
    "\n",
    "\n",
    "url = \"https://raw.githubusercontent.com/joeljogy/Display-interactive-leaflet-maps/master/datasets/crime_countdata.csv\"\n",
    "count = pd.read_csv(url,index_col=0,parse_dates=[0])\n",
    "\n",
    "\n",
    "# \"https://raw.githubusercontent.com/joeljogy/Display-interactive-leaflet-maps/master/datasets/SFPD.json\""
   ]
  },
  {
   "cell_type": "code",
   "execution_count": null,
   "metadata": {},
   "outputs": [],
   "source": [
    "CAPETOWN_COORDINATES = ('-33.95623', '18.49262')"
   ]
  },
  {
   "cell_type": "code",
   "execution_count": 5,
   "metadata": {},
   "outputs": [],
   "source": [
    "day = 11\n",
    "month = 05\n",
    "year = 2015\n",
    "SF_COORDINATES = (37.76, -122.45)\n",
    "#crimedata = pd.read_csv('./datasets/new_train(kaggledata).csv')\n",
    "SF_COORDINATES = (37.76, -122.45)\n",
    "crimedata = demo\n",
    "state_geo = \"https://raw.githubusercontent.com/joeljogy/Display-interactive-leaflet-maps/master/datasets/SFPD.json\"\n",
    "\n",
    "list_of_crimes = [\"WARRANTS\",\"OTHER OFFENSES\",\"LARCENY/THEFT\",\"VEHICLE THEFT\",\"VANDALISM\",\"NON-CRIMINAL\",\"ROBBERY\",\"ASSAULT\",\"WEAPON LAWS\",\"BURGLARY\",\"SUSPICIOUS OCC\",\"DRUNKENNESS\",\"FORGERY/COUNTERFEITING\",\"DRUG/NARCOTIC\",\"STOLEN PROPERTY\",\"SECONDARY CODES\",\"TRESPASS\",\"MISSING PERSON\",\"FRAUD\",\"KIDNAPPING\",\"RUNAWAY\",\"DRIVING UNDER THE INFLUENCE\",\"SEX OFFENSES FORCIBLE\",\"PROSTITUTION\",\"DISORDERLY CONDUCT\",\"ARSON\",\"FAMILY OFFENSES\",\"LIQUOR LAWS\",\"BRIBERY\",\"EMBEZZLEMENT\",\"SUICIDE\",\"LOITERING\",\"SEX OFFENSES NON FORCIBLE\",\"EXTORTION\",\"GAMBLING\",\"BAD CHECKS\",\"TREA\",\"RECOVERED VEHICLE\",\"PORNOGRAPHY/OBSCENE MAT\"]\n",
    "list_of_pdistrict = [\"NORTHERN\",\"PARK\",\"INGLESIDE\",\"BAYVIEW\",\"RICHMOND\",\"CENTRAL\",\"TARAVAL\",\"TENDERLOIN\",\"MISSION\",\"SOUTHERN\"] \n",
    "count_of_pdistrict = {\"NORTHERN\":0,\"PARK\":0,\"INGLESIDE\":0,\"BAYVIEW\":0,\"RICHMOND\":0,\"CENTRAL\":0,\"TARAVAL\":0,\"TENDERLOIN\":0,\"MISSION\":0,\"SOUTHERN\":0}"
   ]
  },
  {
   "cell_type": "code",
   "execution_count": 6,
   "metadata": {},
   "outputs": [],
   "source": [
    "# initialize empty map zoomed in on San Francisco\n",
    "m = folium.Map(location=SF_COORDINATES, zoom_start=13,tiles='CartoDBPositron')\n",
    "cluster = folium.plugins.MarkerCluster(name=\"Previous Crimes\").add_to(m)"
   ]
  },
  {
   "cell_type": "code",
   "execution_count": 7,
   "metadata": {},
   "outputs": [],
   "source": [
    "# add a marker for every record in the filtered data, use a clustered view\n",
    "for each in crimedata[0:878050].iterrows():\n",
    "    if ((int(each[1]['Day'])==day) and (int(each[1]['Month'])==month) and (int(each[1]['Year'])==year)):\n",
    "        crime_name = list_of_crimes[int(each[1]['Category'])-1]\n",
    "        occ_date = \"%s-%s-%s\"%(str(day),str(month),str(year))\n",
    "        pdistrict = list_of_pdistrict[int(each[1]['PdDistrict'])-1]\n",
    "        count_of_pdistrict[pdistrict]=(count_of_pdistrict[pdistrict])+1\n",
    "        location = \"%s,%s\"%(each[1]['Y'],each[1]['X'])\n",
    "        folium.Marker(location = [each[1]['Y'],each[1]['X']], popup='<b>Occured date: </b>%s<br></br><b>Crime Type: </b>%s<br></br><b>Police District: </b>%s<br></br><b>Location: </b>%s'%(occ_date,crime_name,pdistrict,location),).add_to(cluster)"
   ]
  },
  {
   "cell_type": "code",
   "execution_count": null,
   "metadata": {},
   "outputs": [],
   "source": [
    " "
   ]
  },
  {
   "cell_type": "code",
   "execution_count": 8,
   "metadata": {},
   "outputs": [
    {
     "name": "stderr",
     "output_type": "stream",
     "text": [
      "/Users/Tina/anaconda2/lib/python2.7/site-packages/folium/folium.py:426: FutureWarning: The choropleth  method has been deprecated. Instead use the new Choropleth class, which has the same arguments. See the example notebook 'GeoJSON_and_choropleth' for how to do this.\n",
      "  FutureWarning\n"
     ]
    },
    {
     "name": "stdout",
     "output_type": "stream",
     "text": [
      "Saving the webpage for map....\n"
     ]
    }
   ],
   "source": [
    "\n",
    "import pandas as pd\n",
    "import datetime\n",
    "import folium\n",
    "from folium.map import *\n",
    "from folium import plugins\n",
    "from folium.plugins import MeasureControl\n",
    "from folium.plugins import FloatImage\n",
    "\n",
    "# url = ('https://media.licdn.com/mpr/mpr/shrinknp_100_100/AAEAAQAAAAAAAAlgAAAAJGE3OTA4YTdlLTkzZjUtNDFjYy1iZThlLWQ5OTNkYzlhNzM4OQ.jpg')\n",
    "\n",
    "\n",
    "day = 11\n",
    "month = 05\n",
    "year = 2015\n",
    "SF_COORDINATES = (37.76, -122.45)\n",
    "#crimedata = pd.read_csv('./datasets/new_train(kaggledata).csv')\n",
    "\n",
    "url = 'https://raw.githubusercontent.com/joeljogy/Display-interactive-leaflet-maps/master/datasets/demo.csv'\n",
    "crimedata = pd.read_csv(url,index_col=0,parse_dates=[0])\n",
    "# crimedata = pd.read_csv('demo.csv')\n",
    "\n",
    "\n",
    "url = \"https://raw.githubusercontent.com/joeljogy/Display-interactive-leaflet-maps/master/datasets/crime_countdata.csv\"\n",
    "count = pd.read_csv(url,index_col=0,parse_dates=[0])\n",
    "\n",
    "\n",
    "\n",
    "\n",
    "state_geo = \"https://raw.githubusercontent.com/joeljogy/Display-interactive-leaflet-maps/master/datasets/SFPD.json\"\n",
    "\n",
    " \n",
    "list_of_crimes = [\"WARRANTS\",\"OTHER OFFENSES\",\"LARCENY/THEFT\",\"VEHICLE THEFT\",\"VANDALISM\",\"NON-CRIMINAL\",\"ROBBERY\",\"ASSAULT\",\"WEAPON LAWS\",\"BURGLARY\",\"SUSPICIOUS OCC\",\"DRUNKENNESS\",\"FORGERY/COUNTERFEITING\",\"DRUG/NARCOTIC\",\"STOLEN PROPERTY\",\"SECONDARY CODES\",\"TRESPASS\",\"MISSING PERSON\",\"FRAUD\",\"KIDNAPPING\",\"RUNAWAY\",\"DRIVING UNDER THE INFLUENCE\",\"SEX OFFENSES FORCIBLE\",\"PROSTITUTION\",\"DISORDERLY CONDUCT\",\"ARSON\",\"FAMILY OFFENSES\",\"LIQUOR LAWS\",\"BRIBERY\",\"EMBEZZLEMENT\",\"SUICIDE\",\"LOITERING\",\"SEX OFFENSES NON FORCIBLE\",\"EXTORTION\",\"GAMBLING\",\"BAD CHECKS\",\"TREA\",\"RECOVERED VEHICLE\",\"PORNOGRAPHY/OBSCENE MAT\"]\n",
    "list_of_pdistrict = [\"NORTHERN\",\"PARK\",\"INGLESIDE\",\"BAYVIEW\",\"RICHMOND\",\"CENTRAL\",\"TARAVAL\",\"TENDERLOIN\",\"MISSION\",\"SOUTHERN\"] \n",
    "count_of_pdistrict = {\"NORTHERN\":0,\"PARK\":0,\"INGLESIDE\":0,\"BAYVIEW\":0,\"RICHMOND\":0,\"CENTRAL\":0,\"TARAVAL\":0,\"TENDERLOIN\":0,\"MISSION\":0,\"SOUTHERN\":0}\n",
    "# create empty map zoomed in on San Francisco\n",
    "m = folium.Map(location=SF_COORDINATES, zoom_start=13,tiles='CartoDBPositron')\n",
    "cluster = folium.plugins.MarkerCluster(name=\"Previous Crimes\").add_to(m)\n",
    "\n",
    "# add a marker for every record in the filtered data, use a clustered view\n",
    "for each in crimedata[0:878050].iterrows():\n",
    "    if ((int(each[1]['Day'])==day) and (int(each[1]['Month'])==month) and (int(each[1]['Year'])==year)):\n",
    "        crime_name = list_of_crimes[int(each[1]['Category'])-1]\n",
    "        occ_date = \"%s-%s-%s\"%(str(day),str(month),str(year))\n",
    "        pdistrict = list_of_pdistrict[int(each[1]['PdDistrict'])-1]\n",
    "        count_of_pdistrict[pdistrict]=(count_of_pdistrict[pdistrict])+1\n",
    "        location = \"%s,%s\"%(each[1]['Y'],each[1]['X'])\n",
    "        folium.Marker(location = [each[1]['Y'],each[1]['X']], popup='<b>Occured date: </b>%s<br></br><b>Crime Type: </b>%s<br></br><b>Police District: </b>%s<br></br><b>Location: </b>%s'%(occ_date,crime_name,pdistrict,location),).add_to(cluster)\n",
    "\n",
    "crime_count = open('crime_countdata.csv','w')\n",
    "crime_count.write('PD,Crime_Count\\n')\n",
    "for key in count_of_pdistrict:\n",
    "    crime_count.write(\"%s,%s\\n\"%(key,str(count_of_pdistrict[key])))\n",
    "crime_count.close()\n",
    "state_data = pd.read_csv('crime_countdata.csv')\n",
    "m.choropleth(\n",
    "    geo_data=state_geo,\n",
    "    name='choropleth',\n",
    "    data=state_data,\n",
    "    columns=['PD', 'Crime_Count'],\n",
    "    key_on='feature.id',\n",
    "    fill_color='Reds',\n",
    "    fill_opacity=0.7,\n",
    "    line_opacity=0.9,\n",
    "    legend_name='Crime Rate'\n",
    ")\n",
    "\n",
    "\n",
    "non_violent_loc =[[ 37.783003799999996,-122.4124143],[37.77436883,-122.5058834],[37.74491907,-122.47577350000002],[37.71083265,-122.43244650000001],[37.72513804,-122.423327],[37.73015769,-122.37598919999999],[37.75999239,-122.3977468],[37.80087263,-122.4269953],[37.77739182,-122.3976156],[37.77539248,-122.4156581],[37.79149808,-122.40574479999998],[37.79750489,-122.4020426]]\n",
    "violent_loc=[[37.72156474,-122.47318200000001],[37.73511269,-122.4845457],[ 37.73449811,-122.4448541],[37.76978409,-122.449123],[37.77753219,-122.4408795],[37.7299736,-122.3920652],[37.80427189,-122.44827839999999],[37.774598600000004,-122.42589170000001],[37.79243096,-122.3957716],[37.75942275,-122.41905890000001],[37.80618612,-122.41625959999999]]\n",
    "\n",
    "for loc in non_violent_loc:\n",
    "    folium.CircleMarker(location=loc, radius=30,\n",
    "            popup='<b>Prediction Type: </b>Non-Violent Crime<br></br><b>Location: </b>%s'%(loc), line_color='#3186cc',\n",
    "            fill_color='#FFFFFF',fill_opacity=0.7, fill=True).add_to(m)\n",
    "\n",
    "\n",
    "for loc in violent_loc:\n",
    "    folium.CircleMarker(location=loc, radius=30,\n",
    "            popup='<b>Prediction Type: </b>Violent Crime<br></br><b>Location: </b>%s'%(loc), line_color='#3186cc',\n",
    "            fill_color='#000000',fill_opacity=0.7, fill=True).add_to(m)\n",
    "\n",
    "\n",
    "\n",
    "folium.TileLayer(tiles='Stamen Toner',name=\"Stamen Toner\").add_to(m)\n",
    "folium.TileLayer(tiles='Stamen Terrain',name=\"Stamen Terrain\").add_to(m)\n",
    "folium.LayerControl().add_to(m)\n",
    "m.add_child(MeasureControl())\n",
    "\n",
    "m.save('index.html')\n",
    "print \"Saving the webpage for map....\"\n"
   ]
  },
  {
   "cell_type": "code",
   "execution_count": 34,
   "metadata": {},
   "outputs": [
    {
     "name": "stdout",
     "output_type": "stream",
     "text": [
      "Photo 02.09.19, 16 33 05_after_cleaning.jpg\n",
      "Photo 02.09.19, 16 50 07_after_cleaning.jpg\n",
      "Photo 02.09.19, 16 40 02_after_cleaning.jpg\n",
      "Photo 02.09.19, 16 33 36_after_cleaning.jpg\n",
      "Photo 02.09.19, 16 40 22_after_cleaning.jpg\n",
      "Photo 02.09.19, 16 34 59_after_cleaning.jpg\n",
      "Photo 02.09.19, 16 36 04_after_cleaning.jpg\n",
      "Photo 02.09.19, 16 35 26_after_cleaning.jpg\n",
      "Photo 02.09.19, 16 36 32_after_cleaning.jpg\n",
      "Photo 02.09.19, 16 36 21_after_cleaning.jpg\n",
      ".DS_Store_after_cleaning_after_cleaning.jpg\n",
      "Photo 02.09.19, 16 32 57_after_cleaning.jpg\n",
      "Photo 02.09.19, 16 40 54_after_cleaning.jpg\n",
      "Photo 02.09.19, 16 34 33_after_cleaning.jpg\n",
      "Photo 02.09.19, 16 34 40_after_cleaning.jpg\n",
      "Photo 02.09.19, 16 39 51_after_cleaning.jpg\n",
      "Photo 02.09.19, 16 33 52_after_cleaning.jpg\n",
      "Photo 02.09.19, 16 39 04_after_cleaning.jpg\n",
      "Photo 02.09.19, 16 34 56_after_cleaning.jpg\n",
      "Photo 02.09.19, 16 39 44_after_cleaning.jpg\n"
     ]
    }
   ],
   "source": [
    " \n",
    "directory = \"/Users/Tina/Dropbox/constitutionstreet/after cleaning/\"\n",
    "\n",
    "# for filename in os.listdir(directory):\n",
    "#     if filename.endswith(\".asm\") or filename.endswith(\".jpg\"): \n",
    "#         + \"after_cleaning\"\n",
    "#         print(os.path.join(directory, filename))\n",
    "#         continue\n",
    "#     else:\n",
    "#         continue\n",
    "        \n",
    "import os\n",
    "temp=1\n",
    "for filename in os.listdir(directory):\n",
    "    print filename   \n",
    "    os.rename(directory+filename, directory+str(temp)+filename)\n",
    "    temp+=1"
   ]
  },
  {
   "cell_type": "code",
   "execution_count": null,
   "metadata": {},
   "outputs": [],
   "source": []
  },
  {
   "cell_type": "code",
   "execution_count": 61,
   "metadata": {},
   "outputs": [
    {
     "name": "stdout",
     "output_type": "stream",
     "text": [
      "2_cupboard_chip.jpg\n",
      "(4032, 3024)\n",
      "(1008, 756)\n",
      "15_bathroom_cracks_02.09.19, 16 34 40_after_cleaning.jpg\n",
      "(4032, 3024)\n",
      "(1008, 756)\n",
      "5_kitchen_basin_needs_water_sealing_02.09.19, 16 40 22_after_cleaning.jpg\n",
      "(4032, 3024)\n",
      "(1008, 756)\n",
      ".DS_Store\n",
      "4_kitchen_splitter_02.09.19, 16 33 36_after_cleaning.jpg\n",
      "(4032, 3024)\n",
      "(1008, 756)\n",
      "11_key_broken_02.09.19, 16 50 07_after_cleaning.jpg\n",
      "(4032, 3024)\n",
      "(1008, 756)\n",
      "16_kitchen_water_damage_board_02.09.19, 16 39 51_after_cleaning.jpg\n",
      "(4032, 3024)\n",
      "(1008, 756)\n",
      "7_cupboard_screw_missing_after_cleaning.jpg\n",
      "(4032, 3024)\n",
      "(1008, 756)\n",
      "small\n",
      "12_toilet_seat_screw_missing_02.09.19, 11 05 24_aftercleaning.jpg\n",
      "(4032, 3024)\n",
      "(1008, 756)\n",
      "8_bathroom_stain_notcleanable_after_cleaning.jpg\n",
      "(4032, 3024)\n",
      "(1008, 756)\n",
      "11.DS_Store_after_cleaning_after_cleaning.jpg\n",
      "9_cupboard_back_detached_02.09.19, 16 36 32_after_cleaning.jpg\n",
      "(4032, 3024)\n",
      "(1008, 756)\n",
      "18_lounge_lightbulb_02.09.19, 16 39 04_after_cleaning.jpg\n",
      "(4032, 3024)\n",
      "(1008, 756)\n",
      "3_kitchen_result_of_swollen_woodboard_02.09.19, 16 40 02_after_cleaning.jpg\n",
      "(4032, 3024)\n",
      "(1008, 756)\n",
      "17_kitchen_sealing_needed_02.09.19, 16 33 52_after_cleaning.jpg\n",
      "(4032, 3024)\n",
      "(1008, 756)\n",
      "6_bathroom_basin_splitter_02.09.19, 16 34 59_after_cleaning.jpg\n",
      "(4032, 3024)\n",
      "(1008, 756)\n",
      "1_tiles_entrance_crack_02.09.19, 16 33 05_after_cleaning.jpg\n",
      "(4032, 3024)\n",
      "(1008, 756)\n",
      "14_batchroom_cracks_tiles_2.09.19, 16 34 33_after_cleaning.jpg\n",
      "(4032, 3024)\n",
      "(1008, 756)\n",
      "13_kitchen_water_damage_2.09.19, 16 40 54_after_cleaning.jpg\n",
      "(4032, 3024)\n",
      "(1008, 756)\n",
      "10_another_cupboard_screw_02.09.19, 16 36 21_after_cleaning.jpg\n",
      "(4032, 3024)\n",
      "(1008, 756)\n"
     ]
    }
   ],
   "source": [
    "directory = \"/Users/Tina/Dropbox/constitutionstreet/after cleaning/\"\n",
    "\n",
    "from PIL import Image\n",
    " # My image is a 200x374 jpeg that is 102kb large\n",
    "\n",
    "for filename in os.listdir(directory):\n",
    "    print filename\n",
    " \n",
    "# uncomment\n",
    "# for filename in os.listdir(directory):\n",
    "#     try:\n",
    "#         print filename\n",
    "#         foo = Image.open(directory+filename)\n",
    "#         print foo.size\n",
    "#         s = ( int(float(foo.size[0]) * float(0.25)), int(float(foo.size[1]) * float(0.25)))\n",
    "#         print s\n",
    "#         foo = foo.resize(s)\n",
    "#         foo.save(directory+'small/smaller/'+\"resized_\" + filename, optimize=True, quality=95)\n",
    "#     except:\n",
    "#         continue\n",
    "    \n",
    " "
   ]
  },
  {
   "cell_type": "code",
   "execution_count": null,
   "metadata": {},
   "outputs": [],
   "source": []
  }
 ],
 "metadata": {
  "kernelspec": {
   "display_name": "Python 2",
   "language": "python",
   "name": "python2"
  },
  "language_info": {
   "codemirror_mode": {
    "name": "ipython",
    "version": 2
   },
   "file_extension": ".py",
   "mimetype": "text/x-python",
   "name": "python",
   "nbconvert_exporter": "python",
   "pygments_lexer": "ipython2",
   "version": "2.7.15"
  }
 },
 "nbformat": 4,
 "nbformat_minor": 2
}
