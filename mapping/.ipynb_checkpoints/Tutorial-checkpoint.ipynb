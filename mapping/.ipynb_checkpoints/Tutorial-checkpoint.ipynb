{
 "cells": [
  {
   "cell_type": "markdown",
   "metadata": {},
   "source": [
    "From https://blog.dominodatalab.com/creating-interactive-crime-maps-with-folium/"
   ]
  },
  {
   "cell_type": "code",
   "execution_count": 1,
   "metadata": {},
   "outputs": [
    {
     "data": {
      "text/plain": [
       "u'/Users/Tina/git_repos/BabyPython/mapping'"
      ]
     },
     "execution_count": 1,
     "metadata": {},
     "output_type": "execute_result"
    }
   ],
   "source": [
    "pwd"
   ]
  },
  {
   "cell_type": "code",
   "execution_count": null,
   "metadata": {},
   "outputs": [],
   "source": [
    "import folium\n",
    "import pandas as pd\n",
    " \n",
    "SF_COORDINATES = (37.76, -122.45)\n",
    "crimedata = pd.read_csv('data/Police_Department_Incident_Reports__Historical_2003_to_May_2018.csv ')"
   ]
  },
  {
   "cell_type": "code",
   "execution_count": 3,
   "metadata": {},
   "outputs": [],
   "source": []
  },
  {
   "cell_type": "code",
   "execution_count": 4,
   "metadata": {},
   "outputs": [],
   "source": [
    " "
   ]
  },
  {
   "cell_type": "code",
   "execution_count": null,
   "metadata": {},
   "outputs": [],
   "source": [
    "CAPETOWN_COORDINATES = ('-33.95623', '18.49262')"
   ]
  },
  {
   "cell_type": "code",
   "execution_count": 5,
   "metadata": {},
   "outputs": [],
   "source": [
    " "
   ]
  },
  {
   "cell_type": "code",
   "execution_count": 6,
   "metadata": {},
   "outputs": [],
   "source": [
    " "
   ]
  },
  {
   "cell_type": "code",
   "execution_count": 7,
   "metadata": {},
   "outputs": [],
   "source": [
    " "
   ]
  },
  {
   "cell_type": "code",
   "execution_count": null,
   "metadata": {},
   "outputs": [],
   "source": [
    " "
   ]
  },
  {
   "cell_type": "code",
   "execution_count": null,
   "metadata": {},
   "outputs": [],
   "source": [
    " "
   ]
  },
  {
   "cell_type": "code",
   "execution_count": 34,
   "metadata": {},
   "outputs": [
    {
     "name": "stdout",
     "output_type": "stream",
     "text": [
      "Photo 02.09.19, 16 33 05_after_cleaning.jpg\n",
      "Photo 02.09.19, 16 50 07_after_cleaning.jpg\n",
      "Photo 02.09.19, 16 40 02_after_cleaning.jpg\n",
      "Photo 02.09.19, 16 33 36_after_cleaning.jpg\n",
      "Photo 02.09.19, 16 40 22_after_cleaning.jpg\n",
      "Photo 02.09.19, 16 34 59_after_cleaning.jpg\n",
      "Photo 02.09.19, 16 36 04_after_cleaning.jpg\n",
      "Photo 02.09.19, 16 35 26_after_cleaning.jpg\n",
      "Photo 02.09.19, 16 36 32_after_cleaning.jpg\n",
      "Photo 02.09.19, 16 36 21_after_cleaning.jpg\n",
      ".DS_Store_after_cleaning_after_cleaning.jpg\n",
      "Photo 02.09.19, 16 32 57_after_cleaning.jpg\n",
      "Photo 02.09.19, 16 40 54_after_cleaning.jpg\n",
      "Photo 02.09.19, 16 34 33_after_cleaning.jpg\n",
      "Photo 02.09.19, 16 34 40_after_cleaning.jpg\n",
      "Photo 02.09.19, 16 39 51_after_cleaning.jpg\n",
      "Photo 02.09.19, 16 33 52_after_cleaning.jpg\n",
      "Photo 02.09.19, 16 39 04_after_cleaning.jpg\n",
      "Photo 02.09.19, 16 34 56_after_cleaning.jpg\n",
      "Photo 02.09.19, 16 39 44_after_cleaning.jpg\n"
     ]
    }
   ],
   "source": [
    " \n",
    "directory = \"/Users/Tina/Dropbox/constitutionstreet/after cleaning/\"\n",
    "\n",
    "# for filename in os.listdir(directory):\n",
    "#     if filename.endswith(\".asm\") or filename.endswith(\".jpg\"): \n",
    "#         + \"after_cleaning\"\n",
    "#         print(os.path.join(directory, filename))\n",
    "#         continue\n",
    "#     else:\n",
    "#         continue\n",
    "        \n",
    "import os\n",
    "temp=1\n",
    "for filename in os.listdir(directory):\n",
    "    print filename   \n",
    "    os.rename(directory+filename, directory+str(temp)+filename)\n",
    "    temp+=1"
   ]
  },
  {
   "cell_type": "code",
   "execution_count": null,
   "metadata": {},
   "outputs": [],
   "source": []
  },
  {
   "cell_type": "code",
   "execution_count": 61,
   "metadata": {},
   "outputs": [
    {
     "name": "stdout",
     "output_type": "stream",
     "text": [
      "2_cupboard_chip.jpg\n",
      "(4032, 3024)\n",
      "(1008, 756)\n",
      "15_bathroom_cracks_02.09.19, 16 34 40_after_cleaning.jpg\n",
      "(4032, 3024)\n",
      "(1008, 756)\n",
      "5_kitchen_basin_needs_water_sealing_02.09.19, 16 40 22_after_cleaning.jpg\n",
      "(4032, 3024)\n",
      "(1008, 756)\n",
      ".DS_Store\n",
      "4_kitchen_splitter_02.09.19, 16 33 36_after_cleaning.jpg\n",
      "(4032, 3024)\n",
      "(1008, 756)\n",
      "11_key_broken_02.09.19, 16 50 07_after_cleaning.jpg\n",
      "(4032, 3024)\n",
      "(1008, 756)\n",
      "16_kitchen_water_damage_board_02.09.19, 16 39 51_after_cleaning.jpg\n",
      "(4032, 3024)\n",
      "(1008, 756)\n",
      "7_cupboard_screw_missing_after_cleaning.jpg\n",
      "(4032, 3024)\n",
      "(1008, 756)\n",
      "small\n",
      "12_toilet_seat_screw_missing_02.09.19, 11 05 24_aftercleaning.jpg\n",
      "(4032, 3024)\n",
      "(1008, 756)\n",
      "8_bathroom_stain_notcleanable_after_cleaning.jpg\n",
      "(4032, 3024)\n",
      "(1008, 756)\n",
      "11.DS_Store_after_cleaning_after_cleaning.jpg\n",
      "9_cupboard_back_detached_02.09.19, 16 36 32_after_cleaning.jpg\n",
      "(4032, 3024)\n",
      "(1008, 756)\n",
      "18_lounge_lightbulb_02.09.19, 16 39 04_after_cleaning.jpg\n",
      "(4032, 3024)\n",
      "(1008, 756)\n",
      "3_kitchen_result_of_swollen_woodboard_02.09.19, 16 40 02_after_cleaning.jpg\n",
      "(4032, 3024)\n",
      "(1008, 756)\n",
      "17_kitchen_sealing_needed_02.09.19, 16 33 52_after_cleaning.jpg\n",
      "(4032, 3024)\n",
      "(1008, 756)\n",
      "6_bathroom_basin_splitter_02.09.19, 16 34 59_after_cleaning.jpg\n",
      "(4032, 3024)\n",
      "(1008, 756)\n",
      "1_tiles_entrance_crack_02.09.19, 16 33 05_after_cleaning.jpg\n",
      "(4032, 3024)\n",
      "(1008, 756)\n",
      "14_batchroom_cracks_tiles_2.09.19, 16 34 33_after_cleaning.jpg\n",
      "(4032, 3024)\n",
      "(1008, 756)\n",
      "13_kitchen_water_damage_2.09.19, 16 40 54_after_cleaning.jpg\n",
      "(4032, 3024)\n",
      "(1008, 756)\n",
      "10_another_cupboard_screw_02.09.19, 16 36 21_after_cleaning.jpg\n",
      "(4032, 3024)\n",
      "(1008, 756)\n"
     ]
    }
   ],
   "source": [
    "directory = \"/Users/Tina/Dropbox/constitutionstreet/after cleaning/\"\n",
    "\n",
    "from PIL import Image\n",
    " # My image is a 200x374 jpeg that is 102kb large\n",
    "\n",
    "for filename in os.listdir(directory):\n",
    "    print filename\n",
    " \n",
    "# uncomment\n",
    "# for filename in os.listdir(directory):\n",
    "#     try:\n",
    "#         print filename\n",
    "#         foo = Image.open(directory+filename)\n",
    "#         print foo.size\n",
    "#         s = ( int(float(foo.size[0]) * float(0.25)), int(float(foo.size[1]) * float(0.25)))\n",
    "#         print s\n",
    "#         foo = foo.resize(s)\n",
    "#         foo.save(directory+'small/smaller/'+\"resized_\" + filename, optimize=True, quality=95)\n",
    "#     except:\n",
    "#         continue\n",
    "    \n",
    " "
   ]
  },
  {
   "cell_type": "code",
   "execution_count": null,
   "metadata": {},
   "outputs": [],
   "source": []
  }
 ],
 "metadata": {
  "kernelspec": {
   "display_name": "Python 2",
   "language": "python",
   "name": "python2"
  },
  "language_info": {
   "codemirror_mode": {
    "name": "ipython",
    "version": 2
   },
   "file_extension": ".py",
   "mimetype": "text/x-python",
   "name": "python",
   "nbconvert_exporter": "python",
   "pygments_lexer": "ipython2",
   "version": "2.7.15"
  }
 },
 "nbformat": 4,
 "nbformat_minor": 2
}
