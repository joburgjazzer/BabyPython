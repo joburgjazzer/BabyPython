{
 "cells": [
  {
   "cell_type": "markdown",
   "metadata": {},
   "source": [
    "How I Understood: Getting accurate current geolocation using Python Web-scraping and Selenium\n",
    "    \n",
    "    https://codeburst.io/how-i-understood-getting-accurate-geolocation-using-python-web-scraping-and-selenium-7967d721587a"
   ]
  },
  {
   "cell_type": "markdown",
   "metadata": {},
   "source": [
    "How I Understood: Building Interactive Maps using Python, Leaflet.js and Folium\n",
    "https://codeburst.io/how-i-understood-displaying-interactive-maps-using-python-leaflet-js-and-folium-bd9b98c26e0e"
   ]
  },
  {
   "cell_type": "code",
   "execution_count": 1,
   "metadata": {},
   "outputs": [
    {
     "name": "stderr",
     "output_type": "stream",
     "text": [
      "/Users/Tina/anaconda2/lib/python2.7/site-packages/folium/__init__.py:59: UserWarning: This version of folium is the last to support Python 2. Transition to Python 3 to be able to receive updates and fixes. Check out https://python3statement.org/ for more info.\n",
      "  UserWarning\n"
     ]
    }
   ],
   "source": [
    "import pandas as pd\n",
    "import datetime\n",
    "import folium\n",
    "from folium.map import *\n",
    "from folium import plugins\n",
    "from folium.plugins import MeasureControl\n",
    "from folium.plugins import FloatImage"
   ]
  },
  {
   "cell_type": "code",
   "execution_count": 1,
   "metadata": {},
   "outputs": [],
   "source": [
    "import pandas as pd\n",
    "url = 'https://raw.githubusercontent.com/joeljogy/Display-interactive-leaflet-maps/master/datasets/demo.csv'\n",
    "demo = pd.read_csv(url,index_col=0,parse_dates=[0])\n",
    "# df = pd.read_csv(url)\n",
    "\n",
    "\n",
    "url = \"https://raw.githubusercontent.com/joeljogy/Display-interactive-leaflet-maps/master/datasets/crime_countdata.csv\"\n",
    "count = pd.read_csv(url,index_col=0,parse_dates=[0])"
   ]
  },
  {
   "cell_type": "code",
   "execution_count": null,
   "metadata": {},
   "outputs": [],
   "source": [
    "CAPETOWN_COORDINATES = ('-33.95623', '18.49262')"
   ]
  },
  {
   "cell_type": "code",
   "execution_count": null,
   "metadata": {},
   "outputs": [],
   "source": [
    "prev_day = 11\n",
    "prev_date_month = 05\n",
    "prev_date_year = 2015\n",
    "SF_COORDINATES = (37.76, -122.45)\n",
    "crimedata = demo\n",
    "state_geo = './SFPD.json'\n",
    "\n",
    "list_of_crimes = [\"WARRANTS\",\"OTHER OFFENSES\",\"LARCENY/THEFT\",\"VEHICLE THEFT\",\"VANDALISM\",\"NON-CRIMINAL\",\"ROBBERY\",\"ASSAULT\",\"WEAPON LAWS\",\"BURGLARY\",\"SUSPICIOUS OCC\",\"DRUNKENNESS\",\"FORGERY/COUNTERFEITING\",\"DRUG/NARCOTIC\",\"STOLEN PROPERTY\",\"SECONDARY CODES\",\"TRESPASS\",\"MISSING PERSON\",\"FRAUD\",\"KIDNAPPING\",\"RUNAWAY\",\"DRIVING UNDER THE INFLUENCE\",\"SEX OFFENSES FORCIBLE\",\"PROSTITUTION\",\"DISORDERLY CONDUCT\",\"ARSON\",\"FAMILY OFFENSES\",\"LIQUOR LAWS\",\"BRIBERY\",\"EMBEZZLEMENT\",\"SUICIDE\",\"LOITERING\",\"SEX OFFENSES NON FORCIBLE\",\"EXTORTION\",\"GAMBLING\",\"BAD CHECKS\",\"TREA\",\"RECOVERED VEHICLE\",\"PORNOGRAPHY/OBSCENE MAT\"]\n",
    "list_of_pdistrict = [\"NORTHERN\",\"PARK\",\"INGLESIDE\",\"BAYVIEW\",\"RICHMOND\",\"CENTRAL\",\"TARAVAL\",\"TENDERLOIN\",\"MISSION\",\"SOUTHERN\"] \n",
    "count_of_pdistrict = {\"NORTHERN\":0,\"PARK\":0,\"INGLESIDE\":0,\"BAYVIEW\":0,\"RICHMOND\":0,\"CENTRAL\":0,\"TARAVAL\":0,\"TENDERLOIN\":0,\"MISSION\":0,\"SOUTHERN\":0}"
   ]
  }
 ],
 "metadata": {
  "kernelspec": {
   "display_name": "Python 2",
   "language": "python",
   "name": "python2"
  },
  "language_info": {
   "codemirror_mode": {
    "name": "ipython",
    "version": 2
   },
   "file_extension": ".py",
   "mimetype": "text/x-python",
   "name": "python",
   "nbconvert_exporter": "python",
   "pygments_lexer": "ipython2",
   "version": "2.7.15"
  }
 },
 "nbformat": 4,
 "nbformat_minor": 2
}
